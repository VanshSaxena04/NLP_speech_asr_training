{
 "cells": [
  {
   "cell_type": "code",
   "execution_count": 2,
   "id": "657af972",
   "metadata": {},
   "outputs": [
    {
     "ename": "SyntaxError",
     "evalue": "invalid syntax (691602791.py, line 11)",
     "output_type": "error",
     "traceback": [
      "  \u001b[36mCell\u001b[39m\u001b[36m \u001b[39m\u001b[32mIn[2]\u001b[39m\u001b[32m, line 11\u001b[39m\n\u001b[31m    \u001b[39m\u001b[31mmkdir -p \"$OUTPUT_DIR\"\u001b[39m\n             ^\n\u001b[31mSyntaxError\u001b[39m\u001b[31m:\u001b[39m invalid syntax\n"
     ]
    }
   ],
   "source": [
    "#!/bin/bash\n",
    "# step_clip_audio.sh\n",
    "\n",
    "# --- Configuration ---\n",
    "INPUT_CSV=\"disfluency_detections.csv\"\n",
    "INPUT_AUDIO_DIR=\"data/raw_audio\"\n",
    "OUTPUT_DIR=\"clips\"\n",
    "FFMPEG_LOG=\"data/ffmpeg_errors.log\"\n",
    "\n",
    "# Create necessary directories\n",
    "mkdir -p \"$OUTPUT_DIR\"\n",
    "mkdir -p \"data\" # Ensure data dir exists for log\n",
    "\n",
    "echo \"Starting audio clipping from $INPUT_CSV...\"\n",
    "\n",
    "# Check for required utilities\n",
    "if ! command -v ffmpeg &> /dev/null; then\n",
    "    echo \"[FATAL] ffmpeg is not installed. Please install it to proceed.\"\n",
    "    exit 1\n",
    "fi\n",
    "\n",
    "# Read the CSV header and data\n",
    "# We skip the header (first line) and set IFS to comma (CSV delimiter)\n",
    "tail -n +2 \"$INPUT_CSV\" | while IFS=, read -r row_id recording_id segment_id disfluency_type detected_token start_time end_time duration clip_path confidence notes audio_url\n",
    "do\n",
    "    # 1. Prepare variables and cleanup\n",
    "    REC_ID=$(echo \"$recording_id\" | xargs)\n",
    "    CLIP_SEGMENT_ID=$(echo \"$segment_id\" | xargs)\n",
    "    START=$(echo \"$start_time\" | xargs)\n",
    "    END=$(echo \"$end_time\" | xargs)\n",
    "    \n",
    "    # Construct input and output paths\n",
    "    INPUT_FULL_AUDIO=\"$INPUT_AUDIO_DIR/${REC_ID}.wav\"\n",
    "    OUTPUT_CLIP=\"$OUTPUT_DIR/${CLIP_SEGMENT_ID}.wav\"\n",
    "    \n",
    "    # Basic validation\n",
    "    if [ ! -f \"$INPUT_FULL_AUDIO\" ]; then\n",
    "        echo \"[WARN] Skipping $CLIP_SEGMENT_ID: Full audio file not found at $INPUT_FULL_AUDIO. Check downloads.\" >> \"$FFMPEG_LOG\"\n",
    "        continue\n",
    "    fi\n",
    "\n",
    "    if [ -z \"$START\" ] || [ -z \"$END\" ] || [ \"$START\" == \"None\" ] || [ \"$END\" == \"None\" ]; then\n",
    "        echo \"[WARN] Skipping $CLIP_SEGMENT_ID: Missing or invalid timestamps ($start_time, $end_time).\" >> \"$FFMPEG_LOG\"\n",
    "        continue\n",
    "    fi\n",
    "    \n",
    "    # 2. Clip the audio segment using ffmpeg\n",
    "    echo \"Clipping $CLIP_SEGMENT_ID: $START to $END...\"\n",
    "    \n",
    "    # FFMPEG Command: -ss (seek input) -to (duration/end time) -i (input) -ar (sample rate) -ac (channels)\n",
    "    ffmpeg -y \\\n",
    "        -ss \"$START\" \\\n",
    "        -to \"$END\" \\\n",
    "        -i \"$INPUT_FULL_AUDIO\" \\\n",
    "        -ar 16000 \\\n",
    "        -ac 1 \\\n",
    "        \"$OUTPUT_CLIP\" \\\n",
    "        -hide_banner \\\n",
    "        -loglevel error >> \"$FFMPEG_LOG\" 2>&1\n",
    "\n",
    "    if [ $? -ne 0 ]; then\n",
    "        echo \"[ERROR] FFMPEG failed for $CLIP_SEGMENT_ID. Check $FFMPEG_LOG.\"\n",
    "    fi\n",
    "\n",
    "done\n",
    "\n",
    "echo \"Clipping process finished. Clips are in $OUTPUT_DIR. Errors/warnings logged to $FFMPEG_LOG.\""
   ]
  },
  {
   "cell_type": "code",
   "execution_count": null,
   "id": "c237f134",
   "metadata": {},
   "outputs": [],
   "source": []
  }
 ],
 "metadata": {
  "kernelspec": {
   "display_name": ".venv",
   "language": "python",
   "name": "python3"
  },
  "language_info": {
   "codemirror_mode": {
    "name": "ipython",
    "version": 3
   },
   "file_extension": ".py",
   "mimetype": "text/x-python",
   "name": "python",
   "nbconvert_exporter": "python",
   "pygments_lexer": "ipython3",
   "version": "3.12.11"
  }
 },
 "nbformat": 4,
 "nbformat_minor": 5
}
